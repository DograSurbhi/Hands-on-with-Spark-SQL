{
 "cells": [
  {
   "cell_type": "code",
   "execution_count": 1,
   "metadata": {},
   "outputs": [],
   "source": [
    "%%init_spark\n",
    "launcher.master=\"yarn\"\n",
    "launcher.num_executors=6\n",
    "launcher.executor_memory=\"6000m\"\n",
    "launcher.conf.set(\"spark.sql.warehouse.dir\",\"hdfs://bd-hm:9000/user/hive/warehouse\")\n",
    "launcher.conf.set(\"spark.sql.catalogImplementation\",\"hive\")"
   ]
  },
  {
   "cell_type": "code",
   "execution_count": 2,
   "metadata": {},
   "outputs": [
    {
     "data": {
      "text/plain": [
       "Intitializing Scala interpreter ..."
      ]
     },
     "metadata": {},
     "output_type": "display_data"
    },
    {
     "data": {
      "text/plain": [
       "Spark Web UI available at http://bd-hm:8088/proxy/application_1573537526242_0001\n",
       "SparkContext available as 'sc' (version = 2.4.4, master = yarn, app id = application_1573537526242_0001)\n",
       "SparkSession available as 'spark'\n"
      ]
     },
     "metadata": {},
     "output_type": "display_data"
    },
    {
     "data": {
      "text/plain": [
       "res0: org.apache.spark.sql.DataFrame = []\n"
      ]
     },
     "execution_count": 2,
     "metadata": {},
     "output_type": "execute_result"
    }
   ],
   "source": [
    "sql(\"create database if not exists common\")\n",
    "sql(\"use common\")"
   ]
  },
  {
   "cell_type": "code",
   "execution_count": 3,
   "metadata": {
    "scrolled": true
   },
   "outputs": [
    {
     "data": {
      "text/plain": [
       "ratings: org.apache.spark.sql.Dataset[org.apache.spark.sql.Row] = [user_id: string, movie_id: string]\n",
       "movies: org.apache.spark.sql.Dataset[org.apache.spark.sql.Row] = [movie_id: string, movie_name: string]\n"
      ]
     },
     "execution_count": 3,
     "metadata": {},
     "output_type": "execute_result"
    }
   ],
   "source": [
    "val ratings =sc.textFile(\"/hadoop-user/data/ratings\").map{line=>val splits=line.split(\"\\\\s+\");(splits(0),splits(1))}.flatMapValues(movie_id=>movie_id.split(\"#\")).toDF(\"user_id\",\"movie_id\").persist\n",
    "//ratings.take(3).foreach(println)\n",
    "ratings.createOrReplaceTempView(\"ratings\")\n",
    "                                                               \n",
    "val movies=sc.textFile(\"/hadoop-user/data/movies\").map{line=>val splits=line.split(\"#\");(splits(0),splits(1))}.toDF(\"movie_id\",\"movie_name\").persist\n",
    "//movies.take(3).foreach(println)\n",
    "movies.createOrReplaceTempView(\"movies\")\n",
    "                                                                                                     \n",
    "                                                                                                     \n",
    "\n",
    "//orders.write.parquet(\"orders.parquet\")\n",
    "\n",
    "//spark.read.parquet(\"orders.parquet\")\n",
    "//ratingsnew.createOrReplaceTempView(\"ratingsnew\")\n",
    "                                                               "
   ]
  },
  {
   "cell_type": "code",
   "execution_count": 4,
   "metadata": {},
   "outputs": [
    {
     "name": "stdout",
     "output_type": "stream",
     "text": [
      "+-------+--------+\n",
      "|user_id|movie_id|\n",
      "+-------+--------+\n",
      "|      1|       1|\n",
      "|      1|    1097|\n",
      "|      1|    1907|\n",
      "|      1|    2321|\n",
      "|      1|    2018|\n",
      "|      1|     260|\n",
      "|      1|     938|\n",
      "|      1|    1246|\n",
      "|      1|    2028|\n",
      "|      1|     150|\n",
      "+-------+--------+\n",
      "only showing top 10 rows\n",
      "\n"
     ]
    }
   ],
   "source": [
    "ratings.show(10)"
   ]
  },
  {
   "cell_type": "code",
   "execution_count": 5,
   "metadata": {},
   "outputs": [
    {
     "name": "stdout",
     "output_type": "stream",
     "text": [
      "+--------+--------------------+\n",
      "|movie_id|          movie_name|\n",
      "+--------+--------------------+\n",
      "|       1|    Toy Story (1995)|\n",
      "|       2|      Jumanji (1995)|\n",
      "|       3|Grumpier Old Men ...|\n",
      "|       4|Waiting to Exhale...|\n",
      "|       5|Father of the Bri...|\n",
      "|       6|         Heat (1995)|\n",
      "|       7|      Sabrina (1995)|\n",
      "|       8| Tom and Huck (1995)|\n",
      "|       9| Sudden Death (1995)|\n",
      "|      10|    GoldenEye (1995)|\n",
      "+--------+--------------------+\n",
      "only showing top 10 rows\n",
      "\n"
     ]
    }
   ],
   "source": [
    "movies.show(10)"
   ]
  },
  {
   "cell_type": "code",
   "execution_count": 7,
   "metadata": {},
   "outputs": [
    {
     "name": "stdout",
     "output_type": "stream",
     "text": [
      "+--------+--------+---+-----------------------+\n",
      "|user_id1|user_id2|cnt|collect_set(movie_name)|\n",
      "+--------+--------+---+-----------------------+\n",
      "|    1077|    2180| 51|   [Fantasia (1940),...|\n",
      "|     118|    1866| 51|   [E.T. the Extra-T...|\n",
      "|    1019|    2921| 51|   [Planet of the Ap...|\n",
      "|    1053|     306| 51|   [Boiler Room (200...|\n",
      "|      10|     956| 51|   [Fantasia (1940),...|\n",
      "|    1016|    2771| 51|   [Entrapment (1999...|\n",
      "|    1094|     955| 51|   [Indiana Jones an...|\n",
      "|    1117|     369| 51|   [Dave (1993), Men...|\n",
      "|    1125|    1209| 51|   [Primal Fear (199...|\n",
      "|    1128|     843| 51|   [High Fidelity (2...|\n",
      "+--------+--------+---+-----------------------+\n",
      "only showing top 10 rows\n",
      "\n"
     ]
    }
   ],
   "source": [
    "sql(\"\"\"select r1.user_id as user_id1,r2.user_id as user_id2,count(r1.movie_id)as cnt,collect_set(m.movie_name)\n",
    "from ratings r1, ratings r2,movies m\n",
    "where r1.movie_id=r2.movie_id AND r2.movie_id=m.movie_id\n",
    "group by r1.user_id,r2.user_id\n",
    "having cnt>50\n",
    "order by cnt \n",
    "\n",
    "\"\"\").show(10)"
   ]
  },
  {
   "cell_type": "code",
   "execution_count": null,
   "metadata": {},
   "outputs": [],
   "source": []
  }
 ],
 "metadata": {
  "kernelspec": {
   "display_name": "spylon-kernel",
   "language": "scala",
   "name": "spylon-kernel"
  },
  "language_info": {
   "codemirror_mode": "text/x-scala",
   "file_extension": ".scala",
   "help_links": [
    {
     "text": "MetaKernel Magics",
     "url": "https://metakernel.readthedocs.io/en/latest/source/README.html"
    }
   ],
   "mimetype": "text/x-scala",
   "name": "scala",
   "pygments_lexer": "scala",
   "version": "0.4.1"
  }
 },
 "nbformat": 4,
 "nbformat_minor": 2
}
